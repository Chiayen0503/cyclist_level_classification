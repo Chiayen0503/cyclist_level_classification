{
 "cells": [
  {
   "cell_type": "markdown",
   "id": "6cad0817-177e-4bf2-8553-cebbfae9ada2",
   "metadata": {},
   "source": [
    "# Merge three csv files "
   ]
  },
  {
   "cell_type": "code",
   "execution_count": 1,
   "id": "fc779307",
   "metadata": {},
   "outputs": [],
   "source": [
    "import pandas as pd\n",
    "import os "
   ]
  },
  {
   "cell_type": "code",
   "execution_count": 2,
   "id": "71974ecb",
   "metadata": {},
   "outputs": [],
   "source": [
    "root = 'merging_labels/'\n",
    "fnames = os.listdir(root)\n",
    "fulls = [os.path.join(root,i) for i in fnames]\n",
    "fields = ['image', 'choice']\n",
    "merge_data = pd.concat([pd.read_csv(f, skipinitialspace=True, usecols=fields) for f in fulls])"
   ]
  },
  {
   "cell_type": "code",
   "execution_count": 3,
   "id": "9add1657",
   "metadata": {},
   "outputs": [
    {
     "data": {
      "text/html": [
       "<div>\n",
       "<style scoped>\n",
       "    .dataframe tbody tr th:only-of-type {\n",
       "        vertical-align: middle;\n",
       "    }\n",
       "\n",
       "    .dataframe tbody tr th {\n",
       "        vertical-align: top;\n",
       "    }\n",
       "\n",
       "    .dataframe thead th {\n",
       "        text-align: right;\n",
       "    }\n",
       "</style>\n",
       "<table border=\"1\" class=\"dataframe\">\n",
       "  <thead>\n",
       "    <tr style=\"text-align: right;\">\n",
       "      <th></th>\n",
       "      <th>image</th>\n",
       "      <th>choice</th>\n",
       "    </tr>\n",
       "  </thead>\n",
       "  <tbody>\n",
       "    <tr>\n",
       "      <th>0</th>\n",
       "      <td>GX010049_frame10350</td>\n",
       "      <td>Very safe</td>\n",
       "    </tr>\n",
       "    <tr>\n",
       "      <th>1</th>\n",
       "      <td>GX010049_frame10800</td>\n",
       "      <td>Very safe</td>\n",
       "    </tr>\n",
       "    <tr>\n",
       "      <th>2</th>\n",
       "      <td>GX010049_frame11100</td>\n",
       "      <td>Very safe</td>\n",
       "    </tr>\n",
       "    <tr>\n",
       "      <th>3</th>\n",
       "      <td>GX010049_frame11700</td>\n",
       "      <td>Very safe</td>\n",
       "    </tr>\n",
       "    <tr>\n",
       "      <th>4</th>\n",
       "      <td>GX010049_frame11850</td>\n",
       "      <td>Very safe</td>\n",
       "    </tr>\n",
       "    <tr>\n",
       "      <th>...</th>\n",
       "      <td>...</td>\n",
       "      <td>...</td>\n",
       "    </tr>\n",
       "    <tr>\n",
       "      <th>994</th>\n",
       "      <td>/data/local-files/?d=Users/admin/environments/...</td>\n",
       "      <td>NaN</td>\n",
       "    </tr>\n",
       "    <tr>\n",
       "      <th>995</th>\n",
       "      <td>/data/local-files/?d=Users/admin/environments/...</td>\n",
       "      <td>Safe</td>\n",
       "    </tr>\n",
       "    <tr>\n",
       "      <th>996</th>\n",
       "      <td>/data/local-files/?d=Users/admin/environments/...</td>\n",
       "      <td>Safe</td>\n",
       "    </tr>\n",
       "    <tr>\n",
       "      <th>997</th>\n",
       "      <td>/data/local-files/?d=Users/admin/environments/...</td>\n",
       "      <td>Very safe</td>\n",
       "    </tr>\n",
       "    <tr>\n",
       "      <th>998</th>\n",
       "      <td>/data/local-files/?d=Users/admin/environments/...</td>\n",
       "      <td>Safe</td>\n",
       "    </tr>\n",
       "  </tbody>\n",
       "</table>\n",
       "<p>2896 rows × 2 columns</p>\n",
       "</div>"
      ],
      "text/plain": [
       "                                                 image     choice\n",
       "0                                  GX010049_frame10350  Very safe\n",
       "1                                  GX010049_frame10800  Very safe\n",
       "2                                  GX010049_frame11100  Very safe\n",
       "3                                  GX010049_frame11700  Very safe\n",
       "4                                  GX010049_frame11850  Very safe\n",
       "..                                                 ...        ...\n",
       "994  /data/local-files/?d=Users/admin/environments/...        NaN\n",
       "995  /data/local-files/?d=Users/admin/environments/...       Safe\n",
       "996  /data/local-files/?d=Users/admin/environments/...       Safe\n",
       "997  /data/local-files/?d=Users/admin/environments/...  Very safe\n",
       "998  /data/local-files/?d=Users/admin/environments/...       Safe\n",
       "\n",
       "[2896 rows x 2 columns]"
      ]
     },
     "execution_count": 3,
     "metadata": {},
     "output_type": "execute_result"
    }
   ],
   "source": [
    "merge_data"
   ]
  },
  {
   "cell_type": "code",
   "execution_count": 4,
   "id": "5203063b",
   "metadata": {},
   "outputs": [],
   "source": [
    "df = merge_data\n",
    "df['image'] = df['image'].apply(lambda x: x.split('/')[-1] if x[0]=='/' else x+'.jpg')#only get fname instead of whole path"
   ]
  },
  {
   "cell_type": "markdown",
   "id": "26d59e47-fdf8-4d4f-964c-b5abf76d8fef",
   "metadata": {},
   "source": [
    "# calculate certainty score for each image\n",
    "Save image fname with certainty score > 0.5 to training_img_list"
   ]
  },
  {
   "cell_type": "code",
   "execution_count": 5,
   "id": "ced5f1a2",
   "metadata": {},
   "outputs": [],
   "source": [
    "import numpy as np\n",
    "def certainty_score(score_list):\n",
    "    arr = np.array(score_list)\n",
    "    unique_values, counts = np.unique(arr, return_counts=True)\n",
    "    index_max = np.argmax(counts)\n",
    "    return unique_values[index_max], counts[index_max]/len(score_list)"
   ]
  },
  {
   "cell_type": "code",
   "execution_count": 6,
   "id": "6e30b56a",
   "metadata": {},
   "outputs": [],
   "source": [
    "unique_image_list = pd.unique(df['image']).tolist()"
   ]
  },
  {
   "cell_type": "code",
   "execution_count": 7,
   "id": "c9710b02",
   "metadata": {},
   "outputs": [],
   "source": [
    "merge_score_list = []\n",
    "gt_label_list = []\n",
    "training_img_list = []\n",
    "certainty_thres = 0.5\n",
    "for img in unique_image_list:\n",
    "    rows = df.loc[df['image'] == img]\n",
    "    score_list = rows['choice'].tolist()\n",
    "    if len(score_list)==3:\n",
    "        label = certainty_score(score_list)[0]\n",
    "        final_score = float(certainty_score(score_list)[-1])\n",
    "        merge_score_list.append(final_score) #check certainty score for all images (not filter out pics with low certainty score)\n",
    "        if final_score>certainty_thres: #only save images if they have certainty score>0.5    \n",
    "            gt_label_list.append(label)\n",
    "            training_img_list.append(img)"
   ]
  },
  {
   "cell_type": "markdown",
   "id": "ce55524c-02d4-48c6-a014-e9a7d0bf2202",
   "metadata": {},
   "source": [
    "# Show certainty score boxplot"
   ]
  },
  {
   "cell_type": "code",
   "execution_count": 8,
   "id": "f62013dc-bb76-4f9f-aadd-6410ff904939",
   "metadata": {},
   "outputs": [
    {
     "data": {
      "text/plain": [
       "{'whiskers': [<matplotlib.lines.Line2D at 0x11956caa0>,\n",
       "  <matplotlib.lines.Line2D at 0x11956cda0>],\n",
       " 'caps': [<matplotlib.lines.Line2D at 0x11956d0d0>,\n",
       "  <matplotlib.lines.Line2D at 0x11956d400>],\n",
       " 'boxes': [<matplotlib.lines.Line2D at 0x11956c8c0>],\n",
       " 'medians': [<matplotlib.lines.Line2D at 0x11956d700>],\n",
       " 'fliers': [<matplotlib.lines.Line2D at 0x11956da00>],\n",
       " 'means': []}"
      ]
     },
     "execution_count": 8,
     "metadata": {},
     "output_type": "execute_result"
    },
    {
     "data": {
      "image/png": "[encoded data removed]",
      "text/plain": [
       "<Figure size 640x480 with 1 Axes>"
      ]
     },
     "metadata": {},
     "output_type": "display_data"
    }
   ],
   "source": [
    "import matplotlib.pyplot as plt\n",
    "plt.boxplot(merge_score_list)"
   ]
  },
  {
   "cell_type": "code",
   "execution_count": 9,
   "id": "f248a5e1-37b0-4414-aad0-f498c65f23ea",
   "metadata": {},
   "outputs": [
    {
     "data": {
      "text/plain": [
       "(748, 748)"
      ]
     },
     "execution_count": 9,
     "metadata": {},
     "output_type": "execute_result"
    }
   ],
   "source": [
    "len(training_img_list), len(gt_label_list)"
   ]
  },
  {
   "cell_type": "markdown",
   "id": "ce20dd06-e326-4c32-8008-531a42d8279a",
   "metadata": {},
   "source": [
    "## check how disagree in merge_score_list"
   ]
  },
  {
   "cell_type": "code",
   "execution_count": 10,
   "id": "5103d2fd-3786-4aea-b4dd-58b1043561e0",
   "metadata": {},
   "outputs": [
    {
     "name": "stdout",
     "output_type": "stream",
     "text": [
      "0.23581757508342602 0.5962180200222469 0.16796440489432704\n"
     ]
    }
   ],
   "source": [
    "totally_agree = 0\n",
    "mostly_agree = 0\n",
    "disagree = 0\n",
    "for s in merge_score_list:\n",
    "    if s==1:\n",
    "        totally_agree+=1\n",
    "    elif s>0.5 and s<0.7:\n",
    "        mostly_agree+=1\n",
    "    else:\n",
    "        disagree+=1\n",
    "print(totally_agree/len(merge_score_list), mostly_agree/len(merge_score_list), disagree/len(merge_score_list))"
   ]
  },
  {
   "cell_type": "markdown",
   "id": "fb4d9564-117a-4553-9bec-8d9359de0ba2",
   "metadata": {},
   "source": [
    "# Save training data\n",
    "* 'gt_df.csv': four labels\n",
    "* 'gt_df_simple.csv': two labels"
   ]
  },
  {
   "cell_type": "code",
   "execution_count": 11,
   "id": "e022aa32-ab69-4491-9346-7d2f147d7678",
   "metadata": {},
   "outputs": [],
   "source": [
    "data = {'image': training_img_list,\n",
    "        'label': gt_label_list}\n",
    "gt_df = pd.DataFrame(data)\n",
    "gt_df.to_csv('gt_df.csv', index=False)"
   ]
  },
  {
   "cell_type": "code",
   "execution_count": 12,
   "id": "6326ceed-c549-4259-9c57-bd62b119a4ef",
   "metadata": {},
   "outputs": [
    {
     "data": {
      "text/html": [
       "<div>\n",
       "<style scoped>\n",
       "    .dataframe tbody tr th:only-of-type {\n",
       "        vertical-align: middle;\n",
       "    }\n",
       "\n",
       "    .dataframe tbody tr th {\n",
       "        vertical-align: top;\n",
       "    }\n",
       "\n",
       "    .dataframe thead th {\n",
       "        text-align: right;\n",
       "    }\n",
       "</style>\n",
       "<table border=\"1\" class=\"dataframe\">\n",
       "  <thead>\n",
       "    <tr style=\"text-align: right;\">\n",
       "      <th></th>\n",
       "      <th>image</th>\n",
       "      <th>label</th>\n",
       "    </tr>\n",
       "  </thead>\n",
       "  <tbody>\n",
       "    <tr>\n",
       "      <th>0</th>\n",
       "      <td>GX010049_frame10350.jpg</td>\n",
       "      <td>Safe</td>\n",
       "    </tr>\n",
       "    <tr>\n",
       "      <th>1</th>\n",
       "      <td>GX010049_frame10800.jpg</td>\n",
       "      <td>Safe</td>\n",
       "    </tr>\n",
       "    <tr>\n",
       "      <th>2</th>\n",
       "      <td>GX010049_frame12750.jpg</td>\n",
       "      <td>Safe</td>\n",
       "    </tr>\n",
       "    <tr>\n",
       "      <th>3</th>\n",
       "      <td>GX010049_frame13500.jpg</td>\n",
       "      <td>Safe</td>\n",
       "    </tr>\n",
       "    <tr>\n",
       "      <th>4</th>\n",
       "      <td>GX010049_frame14250.jpg</td>\n",
       "      <td>Very safe</td>\n",
       "    </tr>\n",
       "    <tr>\n",
       "      <th>...</th>\n",
       "      <td>...</td>\n",
       "      <td>...</td>\n",
       "    </tr>\n",
       "    <tr>\n",
       "      <th>738</th>\n",
       "      <td>GX080055_frame19650.jpg</td>\n",
       "      <td>Safe</td>\n",
       "    </tr>\n",
       "    <tr>\n",
       "      <th>739</th>\n",
       "      <td>GX080055_frame2550.jpg</td>\n",
       "      <td>Unsafe</td>\n",
       "    </tr>\n",
       "    <tr>\n",
       "      <th>740</th>\n",
       "      <td>GX080055_frame300.jpg</td>\n",
       "      <td>Safe</td>\n",
       "    </tr>\n",
       "    <tr>\n",
       "      <th>741</th>\n",
       "      <td>GX080055_frame3300.jpg</td>\n",
       "      <td>Unsafe</td>\n",
       "    </tr>\n",
       "    <tr>\n",
       "      <th>742</th>\n",
       "      <td>GX080055_frame4050.jpg</td>\n",
       "      <td>Unsafe</td>\n",
       "    </tr>\n",
       "  </tbody>\n",
       "</table>\n",
       "<p>743 rows × 2 columns</p>\n",
       "</div>"
      ],
      "text/plain": [
       "                       image      label\n",
       "0    GX010049_frame10350.jpg       Safe\n",
       "1    GX010049_frame10800.jpg       Safe\n",
       "2    GX010049_frame12750.jpg       Safe\n",
       "3    GX010049_frame13500.jpg       Safe\n",
       "4    GX010049_frame14250.jpg  Very safe\n",
       "..                       ...        ...\n",
       "738  GX080055_frame19650.jpg       Safe\n",
       "739   GX080055_frame2550.jpg     Unsafe\n",
       "740    GX080055_frame300.jpg       Safe\n",
       "741   GX080055_frame3300.jpg     Unsafe\n",
       "742   GX080055_frame4050.jpg     Unsafe\n",
       "\n",
       "[743 rows x 2 columns]"
      ]
     },
     "execution_count": 12,
     "metadata": {},
     "output_type": "execute_result"
    }
   ],
   "source": [
    "gt_df.head(-5)"
   ]
  },
  {
   "cell_type": "code",
   "execution_count": 13,
   "id": "d03a2774-04d8-4e45-89a3-60ec98bc315f",
   "metadata": {},
   "outputs": [],
   "source": [
    "# simplify gt_df\n",
    "for i in range(len(gt_df)):\n",
    "    l = gt_df['label'].loc[i]\n",
    "    if l == 'Very safe':\n",
    "        gt_df['label'].loc[i]='Safe'\n",
    "    elif l == 'Very unsafe':\n",
    "        gt_df['label'].loc[i]='Unsafe'\n",
    "    else:\n",
    "        continue"
   ]
  },
  {
   "cell_type": "code",
   "execution_count": 14,
   "id": "fe17aa5b-1395-4e92-ae62-3d1281c555b7",
   "metadata": {},
   "outputs": [],
   "source": [
    "gt_df.to_csv('gt_df_simple.csv', index=False)"
   ]
  },
  {
   "cell_type": "code",
   "execution_count": null,
   "id": "4b24d13f-a61f-4150-98bf-80bd2878accd",
   "metadata": {},
   "outputs": [],
   "source": []
  }
 ],
 "metadata": {
  "kernelspec": {
   "display_name": "label-studio",
   "language": "python",
   "name": "label-studio"
  },
  "language_info": {
   "codemirror_mode": {
    "name": "ipython",
    "version": 3
   },
   "file_extension": ".py",
   "mimetype": "text/x-python",
   "name": "python",
   "nbconvert_exporter": "python",
   "pygments_lexer": "ipython3",
   "version": "3.12.2"
  }
 },
 "nbformat": 4,
 "nbformat_minor": 5
}
